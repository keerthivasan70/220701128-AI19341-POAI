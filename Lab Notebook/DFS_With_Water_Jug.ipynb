{
  "nbformat": 4,
  "nbformat_minor": 0,
  "metadata": {
    "colab": {
      "provenance": []
    },
    "kernelspec": {
      "name": "python3",
      "display_name": "Python 3"
    },
    "language_info": {
      "name": "python"
    }
  },
  "cells": [
    {
      "cell_type": "markdown",
      "source": [],
      "metadata": {
        "id": "OgrLt3tb5io7"
      }
    },
    {
      "cell_type": "markdown",
      "source": [
        "# **220701119 - Karthiga R**"
      ],
      "metadata": {
        "id": "-XGELm015knT"
      }
    },
    {
      "cell_type": "markdown",
      "source": [
        "# **DFS_With_Water_Jug**"
      ],
      "metadata": {
        "id": "bsm539vw6itq"
      }
    },
    {
      "cell_type": "code",
      "source": [
        "def waterJugDFS(jug1_capacity, jug2_capacity, target, current_state=None, visited=None):\n",
        "    if visited is None:\n",
        "        visited = set()\n",
        "    if current_state is None:\n",
        "        current_state = (0, 0)\n",
        "\n",
        "    if current_state in visited:\n",
        "        return False\n",
        "\n",
        "    visited.add(current_state)\n",
        "\n",
        "    jug1, jug2 = current_state\n",
        "    print(f\"Jug1: {jug1}, Jug2: {jug2}\")\n",
        "\n",
        "    if jug1 == target or jug2 == target:\n",
        "        print(\"Solution found!\")\n",
        "        return True\n",
        "\n",
        "    possible_moves = [\n",
        "        (jug1_capacity, jug2),\n",
        "        (jug1, jug2_capacity),\n",
        "        (0, jug2),\n",
        "        (jug1, 0),\n",
        "        (min(jug1_capacity, jug1 + jug2), max(0, jug2 - (jug1_capacity - jug1))),\n",
        "        (max(0, jug1 - (jug2_capacity - jug2)), min(jug2_capacity, jug1 + jug2))\n",
        "    ]\n",
        "    for next_state in possible_moves:\n",
        "        if waterJugDFS(jug1_capacity, jug2_capacity, target, next_state, visited):\n",
        "            return True\n",
        "\n",
        "    return False\n",
        "\n",
        "if __name__ == \"__main__\":\n",
        "    jug1_capacity = 4\n",
        "    jug2_capacity = 3\n",
        "    target = 2\n",
        "\n",
        "    print(\"DFS Traversal for Water Jug Problem:\")\n",
        "    if not waterJugDFS(jug1_capacity, jug2_capacity, target):\n",
        "        print(\"No solution found.\")"
      ],
      "metadata": {
        "colab": {
          "base_uri": "https://localhost:8080/"
        },
        "id": "PPNvMMaX62i-",
        "outputId": "08ca2a9b-f076-4bda-b869-20c9bc4fa2b7"
      },
      "execution_count": 6,
      "outputs": [
        {
          "output_type": "stream",
          "name": "stdout",
          "text": [
            "DFS Traversal for Water Jug Problem:\n",
            "Jug1: 0, Jug2: 0\n",
            "Jug1: 4, Jug2: 0\n",
            "Jug1: 4, Jug2: 3\n",
            "Jug1: 0, Jug2: 3\n",
            "Jug1: 3, Jug2: 0\n",
            "Jug1: 3, Jug2: 3\n",
            "Jug1: 4, Jug2: 2\n",
            "Solution found!\n"
          ]
        }
      ]
    }
  ]
}