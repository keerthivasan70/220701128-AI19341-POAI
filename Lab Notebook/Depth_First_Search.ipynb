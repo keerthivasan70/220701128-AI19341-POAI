{
 "cells": [
  {
   "cell_type": "markdown",
   "metadata": {
    "id": "OgrLt3tb5io7"
   },
   "source": []
  },
  {
   "cell_type": "markdown",
   "metadata": {
    "id": "bsm539vw6itq"
   },
   "source": [
    "# **Depth_First_Search**"
   ]
  },
  {
   "cell_type": "code",
   "execution_count": 4,
   "metadata": {
    "colab": {
     "base_uri": "https://localhost:8080/"
    },
    "id": "PPNvMMaX62i-",
    "outputId": "9f12913b-6356-499f-ec01-7f32f53d944d"
   },
   "outputs": [
    {
     "name": "stdout",
     "output_type": "stream",
     "text": [
      "DFS Traversal starting from node 'A':\n",
      "A B D E F C "
     ]
    }
   ],
   "source": [
    "def dfs(graph, start, visited=None):\n",
    "    if visited is None:\n",
    "        visited = set()\n",
    "\n",
    "    visited.add(start)\n",
    "    print(start, end=' ')\n",
    "\n",
    "    for neighbor in graph[start]:\n",
    "        if neighbor not in visited:\n",
    "            dfs(graph, neighbor, visited)\n",
    "\n",
    "    return visited\n",
    "\n",
    "if __name__ == \"__main__\":\n",
    "\n",
    "    graph = {\n",
    "        'A': ['B', 'C'],\n",
    "        'B': ['A', 'D', 'E'],\n",
    "        'C': ['A', 'F'],\n",
    "        'D': ['B'],\n",
    "        'E': ['B', 'F'],\n",
    "        'F': ['C', 'E']\n",
    "    }\n",
    "\n",
    "    print(\"DFS Traversal starting from node 'A':\")\n",
    "    dfs(graph, 'A')"
   ]
  }
 ],
 "metadata": {
  "colab": {
   "provenance": []
  },
  "kernelspec": {
   "display_name": "Python 3",
   "name": "python3"
  },
  "language_info": {
   "name": "python"
  }
 },
 "nbformat": 4,
 "nbformat_minor": 0
}
