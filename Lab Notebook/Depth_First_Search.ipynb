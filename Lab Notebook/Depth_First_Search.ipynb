{
  "nbformat": 4,
  "nbformat_minor": 0,
  "metadata": {
    "colab": {
      "provenance": []
    },
    "kernelspec": {
      "name": "python3",
      "display_name": "Python 3"
    },
    "language_info": {
      "name": "python"
    }
  },
  "cells": [
    {
      "cell_type": "markdown",
      "source": [],
      "metadata": {
        "id": "OgrLt3tb5io7"
      }
    },
    {
      "cell_type": "markdown",
      "source": [
        "# **220701119 - Karthiga R**"
      ],
      "metadata": {
        "id": "-XGELm015knT"
      }
    },
    {
      "cell_type": "markdown",
      "source": [
        "# **Depth_First_Search**"
      ],
      "metadata": {
        "id": "bsm539vw6itq"
      }
    },
    {
      "cell_type": "code",
      "source": [
        "def dfs(graph, start, visited=None):\n",
        "    if visited is None:\n",
        "        visited = set()\n",
        "\n",
        "    visited.add(start)\n",
        "    print(start, end=' ')\n",
        "\n",
        "    for neighbor in graph[start]:\n",
        "        if neighbor not in visited:\n",
        "            dfs(graph, neighbor, visited)\n",
        "\n",
        "    return visited\n",
        "\n",
        "if __name__ == \"__main__\":\n",
        "\n",
        "    graph = {\n",
        "        'A': ['B', 'C'],\n",
        "        'B': ['A', 'D', 'E'],\n",
        "        'C': ['A', 'F'],\n",
        "        'D': ['B'],\n",
        "        'E': ['B', 'F'],\n",
        "        'F': ['C', 'E']\n",
        "    }\n",
        "\n",
        "    print(\"DFS Traversal starting from node 'A':\")\n",
        "    dfs(graph, 'A')"
      ],
      "metadata": {
        "colab": {
          "base_uri": "https://localhost:8080/"
        },
        "id": "PPNvMMaX62i-",
        "outputId": "9f12913b-6356-499f-ec01-7f32f53d944d"
      },
      "execution_count": 4,
      "outputs": [
        {
          "output_type": "stream",
          "name": "stdout",
          "text": [
            "DFS Traversal starting from node 'A':\n",
            "A B D E F C "
          ]
        }
      ]
    }
  ]
}