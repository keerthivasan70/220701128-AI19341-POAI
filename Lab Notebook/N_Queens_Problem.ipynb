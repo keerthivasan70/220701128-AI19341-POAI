{
  "nbformat": 4,
  "nbformat_minor": 0,
  "metadata": {
    "colab": {
      "provenance": []
    },
    "kernelspec": {
      "name": "python3",
      "display_name": "Python 3"
    },
    "language_info": {
      "name": "python"
    }
  },
  "cells": [
    {
      "cell_type": "markdown",
      "source": [],
      "metadata": {
        "id": "OgrLt3tb5io7"
      }
    },
    {
      "cell_type": "markdown",
      "source": [
        "# **220701119 - Karthiga R**"
      ],
      "metadata": {
        "id": "-XGELm015knT"
      }
    },
    {
      "cell_type": "markdown",
      "source": [
        "# **N_Queens_Problem**"
      ],
      "metadata": {
        "id": "bsm539vw6itq"
      }
    },
    {
      "cell_type": "code",
      "source": [
        "def printSolution(board):\n",
        "    for i in range(N):\n",
        "        for j in range(N):\n",
        "            if board[i][j] == 1:\n",
        "                print(\"Q\", end=' ')\n",
        "            else:\n",
        "                print(\"-\", end=' ')\n",
        "        print()\n",
        "\n",
        "def isSafe(board, row, col):\n",
        "    for i in range(col):\n",
        "        if board[row][i] == 1:\n",
        "            return False\n",
        "\n",
        "    for i, j in zip(range(row, -1, -1), range(col, -1, -1)):\n",
        "        if board[i][j] == 1:\n",
        "            return False\n",
        "\n",
        "    for i, j in zip(range(row, N, 1), range(col, -1, -1)):\n",
        "        if board[i][j] == 1:\n",
        "            return False\n",
        "\n",
        "    return True\n",
        "\n",
        "def solveNQUtil(board, col):\n",
        "    if col >= N:\n",
        "        return True\n",
        "\n",
        "    for i in range(N):\n",
        "        if isSafe(board, i, col):\n",
        "            board[i][col] = 1\n",
        "            if solveNQUtil(board, col + 1):\n",
        "                return True\n",
        "            board[i][col] = 0\n",
        "\n",
        "    return False\n",
        "\n",
        "def solveNQ():\n",
        "    global N\n",
        "    N = int(input(\"Enter the number of queens (board size): \"))\n",
        "\n",
        "    board = [[0 for _ in range(N)] for _ in range(N)]\n",
        "\n",
        "    if solveNQUtil(board, 0) == False:\n",
        "        print(\"Solution does not exist\")\n",
        "        return False\n",
        "\n",
        "    printSolution(board)\n",
        "    return True\n",
        "solveNQ()"
      ],
      "metadata": {
        "colab": {
          "base_uri": "https://localhost:8080/"
        },
        "id": "PPNvMMaX62i-",
        "outputId": "d05e3eec-87a6-4fa4-f7b2-f0fae6ccef26"
      },
      "execution_count": 1,
      "outputs": [
        {
          "output_type": "stream",
          "name": "stdout",
          "text": [
            "Enter the number of queens (board size): 4\n",
            "- - Q - \n",
            "Q - - - \n",
            "- - - Q \n",
            "- Q - - \n"
          ]
        },
        {
          "output_type": "execute_result",
          "data": {
            "text/plain": [
              "True"
            ]
          },
          "metadata": {},
          "execution_count": 1
        }
      ]
    }
  ]
}