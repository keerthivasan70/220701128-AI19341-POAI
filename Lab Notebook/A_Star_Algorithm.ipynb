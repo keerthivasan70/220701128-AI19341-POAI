{
 "cells": [
  {
   "cell_type": "markdown",
   "metadata": {
    "id": "OgrLt3tb5io7"
   },
   "source": []
  },
  {
   "cell_type": "markdown",
   "metadata": {
    "id": "bsm539vw6itq"
   },
   "source": [
    "# **A_Star_Algoritm**"
   ]
  },
  {
   "cell_type": "code",
   "execution_count": null,
   "metadata": {
    "colab": {
     "base_uri": "https://localhost:8080/"
    },
    "id": "PPNvMMaX62i-",
    "outputId": "0cdea406-8a0e-49eb-c2df-9e40a2d68473"
   },
   "outputs": [
    {
     "name": "stdout",
     "output_type": "stream",
     "text": [
      "Path found: A -> C -> F\n"
     ]
    }
   ],
   "source": [
    "import heapq\n",
    "\n",
    "def a_star_search(graph, start, goal, heuristic):\n",
    "\n",
    "    open_list = []\n",
    "    heapq.heappush(open_list, (0, start))\n",
    "\n",
    "    g_cost = {start: 0}\n",
    "\n",
    "    came_from = {start: None}\n",
    "\n",
    "    while open_list:\n",
    "        current_f_cost, current_node = heapq.heappop(open_list)\n",
    "\n",
    "        if current_node == goal:\n",
    "            return reconstruct_path(came_from, current_node)\n",
    "\n",
    "        for neighbor, cost in graph[current_node]:\n",
    "            tentative_g_cost = g_cost[current_node] + cost\n",
    "\n",
    "            if neighbor not in g_cost or tentative_g_cost < g_cost[neighbor]:\n",
    "                g_cost[neighbor] = tentative_g_cost\n",
    "                f_cost = tentative_g_cost + heuristic[neighbor]\n",
    "                heapq.heappush(open_list, (f_cost, neighbor))\n",
    "                came_from[neighbor] = current_node\n",
    "\n",
    "    return None\n",
    "\n",
    "def reconstruct_path(came_from, current):\n",
    "    total_path = [current]\n",
    "    while current in came_from and came_from[current] is not None:\n",
    "        current = came_from[current]\n",
    "        total_path.append(current)\n",
    "    return total_path[::-1]\n",
    "\n",
    "if __name__ == \"__main__\":\n",
    "\n",
    "    graph = {\n",
    "        'A': [('B', 1), ('C', 4)],\n",
    "        'B': [('A', 1), ('D', 2), ('E', 5)],\n",
    "        'C': [('A', 4), ('F', 3)],\n",
    "        'D': [('B', 2)],\n",
    "        'E': [('B', 5), ('F', 1)],\n",
    "        'F': [('C', 3), ('E', 1)]\n",
    "    }\n",
    "\n",
    "    heuristic = {\n",
    "        'A': 7,\n",
    "        'B': 6,\n",
    "        'C': 2,\n",
    "        'D': 6,\n",
    "        'E': 1,\n",
    "        'F': 0\n",
    "    }\n",
    "\n",
    "    start_node = 'A'\n",
    "    goal_node = 'F'\n",
    "\n",
    "    path = a_star_search(graph, start_node, goal_node, heuristic)\n",
    "\n",
    "    if path:\n",
    "        print(f\"Path found: {' -> '.join(path)}\")\n",
    "    else:\n",
    "        print(\"No path found.\")"
   ]
  }
 ],
 "metadata": {
  "colab": {
   "provenance": []
  },
  "kernelspec": {
   "display_name": "Python 3",
   "name": "python3"
  },
  "language_info": {
   "name": "python"
  }
 },
 "nbformat": 4,
 "nbformat_minor": 0
}
